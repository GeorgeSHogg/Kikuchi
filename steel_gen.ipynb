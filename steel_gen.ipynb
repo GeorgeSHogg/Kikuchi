{
 "cells": [
  {
   "cell_type": "code",
   "execution_count": 1,
   "metadata": {},
   "outputs": [],
   "source": [
    "import kikuchipy as kp\n",
    "import numpy as np\n",
    "import orix\n",
    "\n",
    "from fastai.vision.all import *\n",
    "from PIL import Image\n",
    "from orix.quaternion import Rotation, Symmetry\n"
   ]
  },
  {
   "cell_type": "code",
   "execution_count": 2,
   "metadata": {},
   "outputs": [
    {
     "name": "stdout",
     "output_type": "stream",
     "text": [
      "defined\n",
      "loaded austenite\n"
     ]
    },
    {
     "name": "stderr",
     "output_type": "stream",
     "text": [
      "c:\\ProgramData\\anaconda3\\Lib\\site-packages\\paramiko\\transport.py:219: CryptographyDeprecationWarning: Blowfish has been deprecated\n",
      "  \"class\": algorithms.Blowfish,\n"
     ]
    }
   ],
   "source": [
    "\n",
    "def get_mps(steel_type):\n",
    "    mp = kp.load(\"steel_h5s/\" + steel_type + \".h5\")\n",
    "    return mp, mp.as_lambert()\n",
    "\n",
    "def generate_batch(steel_type, mp, mp_lp, num = 100):\n",
    "    batch_size = 1000\n",
    "    batches = int(num / batch_size)\n",
    "    for i in range(batches):\n",
    "        print(\"Starting\", steel_type, \"batch\", str(i + 1), \"/\", batches)\n",
    "        grains = np.deg2rad(np.random.rand(batch_size, 3) * 720 - 360)\n",
    "        \n",
    "        rot = Rotation.from_euler(grains)\n",
    "        full_pat = mp_lp.get_patterns(rot, detector, energy=20, compute=True)\n",
    "\n",
    "        sym = mp.phase.point_group\n",
    "        refrence = torch.Tensor([[1, 0, 0, 0]])\n",
    "\n",
    "        for i in range(batch_size):\n",
    "            target_sym= Symmetry(rot[i])\n",
    "\n",
    "            all_targets = orix.quaternion.symmetry.get_distinguished_points(sym, target_sym)\n",
    "            target = torch.Tensor(all_targets.data)\n",
    "\n",
    "            dots = torch.sum(target * refrence, 1, True)\n",
    "            theta = torch.acos(2 * torch.square(dots) - 1)\n",
    "            closest_theta = torch.min(theta)\n",
    "            locs = torch.nonzero(torch.where(theta == closest_theta, 1, 0))\n",
    "            loc = torch.argmax(target[locs[:, 0]][:, 0])\n",
    "\n",
    "            name = [target[locs[:, 0]][loc][i].item() for i in range(4)]\n",
    "\n",
    "            f_path = \"steelData/\" + steel_type + \"_\"\n",
    "            for j in range(4):\n",
    "                f_path += str(name[j]) + \"_\"\n",
    "\n",
    "            img = Image.fromarray(full_pat.data[i] * 127.5)\n",
    "            img = img.resize((64, 64))\n",
    "            img.convert('L').save(f_path + \".jpeg\")\n",
    "\n",
    "\n",
    "print(\"defined\")          \n",
    "\n",
    "steel_types = [\"a\", \"f\"] #, \"c\", \"s\"]\n",
    "#austenite = kp.load(\"steel_h5s/a.h5\", lazy = True)\n",
    "#print(austenite.axes_manager.signal_shape[::-1])\n",
    "print(\"loaded austenite\")\n",
    "detector = kp.detectors.EBSDDetector(\n",
    "        shape=(1001, 1001),\n",
    "        sample_tilt=70,\n",
    "        pc=[0.421, 0.7794, 0.5049],\n",
    "        convention=\"edax\",\n",
    "    )"
   ]
  },
  {
   "cell_type": "code",
   "execution_count": 3,
   "metadata": {},
   "outputs": [
    {
     "ename": "KeyboardInterrupt",
     "evalue": "",
     "output_type": "error",
     "traceback": [
      "\u001b[1;31m---------------------------------------------------------------------------\u001b[0m",
      "\u001b[1;31mPermissionError\u001b[0m                           Traceback (most recent call last)",
      "File \u001b[1;32mc:\\ProgramData\\anaconda3\\Lib\\tempfile.py:256\u001b[0m, in \u001b[0;36m_mkstemp_inner\u001b[1;34m(dir, pre, suf, flags, output_type)\u001b[0m\n\u001b[0;32m    255\u001b[0m \u001b[39mtry\u001b[39;00m:\n\u001b[1;32m--> 256\u001b[0m     fd \u001b[39m=\u001b[39m _os\u001b[39m.\u001b[39mopen(file, flags, \u001b[39m0o600\u001b[39m)\n\u001b[0;32m    257\u001b[0m \u001b[39mexcept\u001b[39;00m \u001b[39mFileExistsError\u001b[39;00m:\n",
      "\u001b[1;31mPermissionError\u001b[0m: [Errno 13] Permission denied: 'c:\\\\ProgramData\\\\anaconda3\\\\Lib\\\\site-packages\\\\hyperspy\\\\misc\\\\__pycache__\\\\tmpjg6sp9j4'",
      "\nDuring handling of the above exception, another exception occurred:\n",
      "\u001b[1;31mKeyboardInterrupt\u001b[0m                         Traceback (most recent call last)",
      "Cell \u001b[1;32mIn[3], line 2\u001b[0m\n\u001b[0;32m      1\u001b[0m \u001b[39mfor\u001b[39;00m steel_type \u001b[39min\u001b[39;00m steel_types:\n\u001b[1;32m----> 2\u001b[0m     mp, mp_lp \u001b[39m=\u001b[39m get_mps(steel_type)\n\u001b[0;32m      3\u001b[0m     generate_batch(steel_type, mp, mp_lp, \u001b[39m30000\u001b[39m)\n",
      "Cell \u001b[1;32mIn[2], line 2\u001b[0m, in \u001b[0;36mget_mps\u001b[1;34m(steel_type)\u001b[0m\n\u001b[0;32m      1\u001b[0m \u001b[39mdef\u001b[39;00m \u001b[39mget_mps\u001b[39m(steel_type):\n\u001b[1;32m----> 2\u001b[0m     mp \u001b[39m=\u001b[39m kp\u001b[39m.\u001b[39mload(\u001b[39m\"\u001b[39m\u001b[39msteel_h5s/\u001b[39m\u001b[39m\"\u001b[39m \u001b[39m+\u001b[39m steel_type \u001b[39m+\u001b[39m \u001b[39m\"\u001b[39m\u001b[39m.h5\u001b[39m\u001b[39m\"\u001b[39m)\n\u001b[0;32m      3\u001b[0m     \u001b[39mreturn\u001b[39;00m mp, mp\u001b[39m.\u001b[39mas_lambert()\n",
      "File \u001b[1;32mc:\\ProgramData\\anaconda3\\Lib\\site-packages\\kikuchipy\\__init__.py:137\u001b[0m, in \u001b[0;36m__getattr__\u001b[1;34m(name)\u001b[0m\n\u001b[0;32m    135\u001b[0m \u001b[39mif\u001b[39;00m name \u001b[39min\u001b[39;00m _import_mapping\u001b[39m.\u001b[39mkeys():\n\u001b[0;32m    136\u001b[0m     import_path \u001b[39m=\u001b[39m \u001b[39mf\u001b[39m\u001b[39m\"\u001b[39m\u001b[39m{\u001b[39;00m\u001b[39m__name__\u001b[39m\u001b[39m}\u001b[39;00m\u001b[39m.\u001b[39m\u001b[39m{\u001b[39;00m_import_mapping\u001b[39m.\u001b[39mget(name)\u001b[39m}\u001b[39;00m\u001b[39m\"\u001b[39m\n\u001b[1;32m--> 137\u001b[0m     \u001b[39mreturn\u001b[39;00m \u001b[39mgetattr\u001b[39m(importlib\u001b[39m.\u001b[39mimport_module(import_path), name)\n\u001b[0;32m    138\u001b[0m \u001b[39melse\u001b[39;00m:  \u001b[39m# pragma: no cover\u001b[39;00m\n\u001b[0;32m    139\u001b[0m     \u001b[39mreturn\u001b[39;00m importlib\u001b[39m.\u001b[39mimport_module(\u001b[39m\"\u001b[39m\u001b[39m.\u001b[39m\u001b[39m\"\u001b[39m \u001b[39m+\u001b[39m name, \u001b[39m__name__\u001b[39m)\n",
      "File \u001b[1;32mc:\\ProgramData\\anaconda3\\Lib\\importlib\\__init__.py:126\u001b[0m, in \u001b[0;36mimport_module\u001b[1;34m(name, package)\u001b[0m\n\u001b[0;32m    124\u001b[0m             \u001b[39mbreak\u001b[39;00m\n\u001b[0;32m    125\u001b[0m         level \u001b[39m+\u001b[39m\u001b[39m=\u001b[39m \u001b[39m1\u001b[39m\n\u001b[1;32m--> 126\u001b[0m \u001b[39mreturn\u001b[39;00m _bootstrap\u001b[39m.\u001b[39m_gcd_import(name[level:], package, level)\n",
      "File \u001b[1;32m<frozen importlib._bootstrap>:1206\u001b[0m, in \u001b[0;36m_gcd_import\u001b[1;34m(name, package, level)\u001b[0m\n",
      "File \u001b[1;32m<frozen importlib._bootstrap>:1178\u001b[0m, in \u001b[0;36m_find_and_load\u001b[1;34m(name, import_)\u001b[0m\n",
      "File \u001b[1;32m<frozen importlib._bootstrap>:1149\u001b[0m, in \u001b[0;36m_find_and_load_unlocked\u001b[1;34m(name, import_)\u001b[0m\n",
      "File \u001b[1;32m<frozen importlib._bootstrap>:690\u001b[0m, in \u001b[0;36m_load_unlocked\u001b[1;34m(spec)\u001b[0m\n",
      "File \u001b[1;32m<frozen importlib._bootstrap_external>:940\u001b[0m, in \u001b[0;36mexec_module\u001b[1;34m(self, module)\u001b[0m\n",
      "File \u001b[1;32m<frozen importlib._bootstrap>:241\u001b[0m, in \u001b[0;36m_call_with_frames_removed\u001b[1;34m(f, *args, **kwds)\u001b[0m\n",
      "File \u001b[1;32mc:\\ProgramData\\anaconda3\\Lib\\site-packages\\kikuchipy\\io\\_io.py:23\u001b[0m\n\u001b[0;32m     20\u001b[0m \u001b[39mfrom\u001b[39;00m \u001b[39mpathlib\u001b[39;00m \u001b[39mimport\u001b[39;00m Path\n\u001b[0;32m     21\u001b[0m \u001b[39mfrom\u001b[39;00m \u001b[39mtyping\u001b[39;00m \u001b[39mimport\u001b[39;00m List, Optional, Union\n\u001b[1;32m---> 23\u001b[0m \u001b[39mfrom\u001b[39;00m \u001b[39mhyperspy\u001b[39;00m\u001b[39m.\u001b[39;00m\u001b[39mio_plugins\u001b[39;00m \u001b[39mimport\u001b[39;00m hspy\n\u001b[0;32m     24\u001b[0m \u001b[39mfrom\u001b[39;00m \u001b[39mhyperspy\u001b[39;00m\u001b[39m.\u001b[39;00m\u001b[39mmisc\u001b[39;00m\u001b[39m.\u001b[39;00m\u001b[39mio\u001b[39;00m\u001b[39m.\u001b[39;00m\u001b[39mtools\u001b[39;00m \u001b[39mimport\u001b[39;00m overwrite \u001b[39mas\u001b[39;00m overwrite_method\n\u001b[0;32m     25\u001b[0m \u001b[39mfrom\u001b[39;00m \u001b[39mhyperspy\u001b[39;00m\u001b[39m.\u001b[39;00m\u001b[39mmisc\u001b[39;00m\u001b[39m.\u001b[39;00m\u001b[39mutils\u001b[39;00m \u001b[39mimport\u001b[39;00m strlist2enumeration, find_subclasses\n",
      "File \u001b[1;32mc:\\ProgramData\\anaconda3\\Lib\\site-packages\\hyperspy\\io_plugins\\__init__.py:22\u001b[0m\n\u001b[0;32m      1\u001b[0m \u001b[39m# -*- coding: utf-8 -*-\u001b[39;00m\n\u001b[0;32m      2\u001b[0m \u001b[39m# Copyright 2007-2022 The HyperSpy developers\u001b[39;00m\n\u001b[0;32m      3\u001b[0m \u001b[39m#\u001b[39;00m\n\u001b[1;32m   (...)\u001b[0m\n\u001b[0;32m     16\u001b[0m \u001b[39m# You should have received a copy of the GNU General Public License\u001b[39;00m\n\u001b[0;32m     17\u001b[0m \u001b[39m# along with HyperSpy. If not, see <https://www.gnu.org/licenses/#GPL>.\u001b[39;00m\n\u001b[0;32m     20\u001b[0m \u001b[39mimport\u001b[39;00m \u001b[39mlogging\u001b[39;00m\n\u001b[1;32m---> 22\u001b[0m \u001b[39mfrom\u001b[39;00m \u001b[39mhyperspy\u001b[39;00m\u001b[39m.\u001b[39;00m\u001b[39mio_plugins\u001b[39;00m \u001b[39mimport\u001b[39;00m (\n\u001b[0;32m     23\u001b[0m     blockfile,\n\u001b[0;32m     24\u001b[0m     bruker,\n\u001b[0;32m     25\u001b[0m     dens,\n\u001b[0;32m     26\u001b[0m     digital_micrograph,\n\u001b[0;32m     27\u001b[0m     edax,\n\u001b[0;32m     28\u001b[0m     emd,\n\u001b[0;32m     29\u001b[0m     empad,\n\u001b[0;32m     30\u001b[0m     fei,\n\u001b[0;32m     31\u001b[0m     hspy,\n\u001b[0;32m     32\u001b[0m     image,\n\u001b[0;32m     33\u001b[0m     impulse,\n\u001b[0;32m     34\u001b[0m     jeol,\n\u001b[0;32m     35\u001b[0m     mrc,\n\u001b[0;32m     36\u001b[0m     msa,\n\u001b[0;32m     37\u001b[0m     nexus,\n\u001b[0;32m     38\u001b[0m     phenom,\n\u001b[0;32m     39\u001b[0m     protochips,\n\u001b[0;32m     40\u001b[0m     ripple,\n\u001b[0;32m     41\u001b[0m     semper_unf,\n\u001b[0;32m     42\u001b[0m     sur,\n\u001b[0;32m     43\u001b[0m     tiff,\n\u001b[0;32m     44\u001b[0m     tvips,\n\u001b[0;32m     45\u001b[0m )\n\u001b[0;32m     47\u001b[0m io_plugins \u001b[39m=\u001b[39m [\n\u001b[0;32m     48\u001b[0m     blockfile,\n\u001b[0;32m     49\u001b[0m     bruker,\n\u001b[1;32m   (...)\u001b[0m\n\u001b[0;32m     69\u001b[0m     tvips,\n\u001b[0;32m     70\u001b[0m ]\n\u001b[0;32m     73\u001b[0m _logger \u001b[39m=\u001b[39m logging\u001b[39m.\u001b[39mgetLogger(\u001b[39m__name__\u001b[39m)\n",
      "File \u001b[1;32mc:\\ProgramData\\anaconda3\\Lib\\site-packages\\hyperspy\\io_plugins\\blockfile.py:31\u001b[0m\n\u001b[0;32m     28\u001b[0m \u001b[39mimport\u001b[39;00m \u001b[39mdatetime\u001b[39;00m\n\u001b[0;32m     29\u001b[0m \u001b[39mimport\u001b[39;00m \u001b[39mdateutil\u001b[39;00m\n\u001b[1;32m---> 31\u001b[0m \u001b[39mfrom\u001b[39;00m \u001b[39mhyperspy\u001b[39;00m\u001b[39m.\u001b[39;00m\u001b[39mmisc\u001b[39;00m\u001b[39m.\u001b[39;00m\u001b[39marray_tools\u001b[39;00m \u001b[39mimport\u001b[39;00m sarray2dict, dict2sarray\n\u001b[0;32m     32\u001b[0m \u001b[39mfrom\u001b[39;00m \u001b[39mhyperspy\u001b[39;00m\u001b[39m.\u001b[39;00m\u001b[39mmisc\u001b[39;00m\u001b[39m.\u001b[39;00m\u001b[39mdate_time_tools\u001b[39;00m \u001b[39mimport\u001b[39;00m (\n\u001b[0;32m     33\u001b[0m     serial_date_to_ISO_format,\n\u001b[0;32m     34\u001b[0m     datetime_to_serial_date,\n\u001b[0;32m     35\u001b[0m )\n\u001b[0;32m     36\u001b[0m \u001b[39mfrom\u001b[39;00m \u001b[39mhyperspy\u001b[39;00m\u001b[39m.\u001b[39;00m\u001b[39mmisc\u001b[39;00m\u001b[39m.\u001b[39;00m\u001b[39mutils\u001b[39;00m \u001b[39mimport\u001b[39;00m dummy_context_manager\n",
      "File \u001b[1;32mc:\\ProgramData\\anaconda3\\Lib\\site-packages\\hyperspy\\misc\\array_tools.py:194\u001b[0m\n\u001b[0;32m    190\u001b[0m \u001b[39m# Replacing space is necessary to get the correct indentation\u001b[39;00m\n\u001b[0;32m    191\u001b[0m rebin\u001b[39m.\u001b[39m\u001b[39m__doc__\u001b[39m \u001b[39m%\u001b[39m\u001b[39m=\u001b[39m REBIN_ARGS\u001b[39m.\u001b[39mreplace(\u001b[39m\"\u001b[39m\u001b[39m        \u001b[39m\u001b[39m\"\u001b[39m, \u001b[39m\"\u001b[39m\u001b[39m    \u001b[39m\u001b[39m\"\u001b[39m)\n\u001b[1;32m--> 194\u001b[0m \u001b[39m@njit\u001b[39m(cache\u001b[39m=\u001b[39m\u001b[39mTrue\u001b[39;00m)\n\u001b[0;32m    195\u001b[0m \u001b[39mdef\u001b[39;00m \u001b[39m_linear_bin_loop\u001b[39m(result, data, scale):  \u001b[39m# pragma: no cover\u001b[39;00m\n\u001b[0;32m    196\u001b[0m     \u001b[39mfor\u001b[39;00m j \u001b[39min\u001b[39;00m \u001b[39mrange\u001b[39m(result\u001b[39m.\u001b[39mshape[\u001b[39m0\u001b[39m]):\n\u001b[0;32m    197\u001b[0m         \u001b[39m# Begin by determining the upper and lower limits of a given new pixel.\u001b[39;00m\n\u001b[0;32m    198\u001b[0m         x1 \u001b[39m=\u001b[39m j \u001b[39m*\u001b[39m scale\n",
      "File \u001b[1;32mc:\\ProgramData\\anaconda3\\Lib\\site-packages\\numba\\core\\decorators.py:234\u001b[0m, in \u001b[0;36m_jit.<locals>.wrapper\u001b[1;34m(func)\u001b[0m\n\u001b[0;32m    230\u001b[0m disp \u001b[39m=\u001b[39m dispatcher(py_func\u001b[39m=\u001b[39mfunc, \u001b[39mlocals\u001b[39m\u001b[39m=\u001b[39m\u001b[39mlocals\u001b[39m,\n\u001b[0;32m    231\u001b[0m                   targetoptions\u001b[39m=\u001b[39mtargetoptions,\n\u001b[0;32m    232\u001b[0m                   \u001b[39m*\u001b[39m\u001b[39m*\u001b[39mdispatcher_args)\n\u001b[0;32m    233\u001b[0m \u001b[39mif\u001b[39;00m cache:\n\u001b[1;32m--> 234\u001b[0m     disp\u001b[39m.\u001b[39menable_caching()\n\u001b[0;32m    235\u001b[0m \u001b[39mif\u001b[39;00m sigs \u001b[39mis\u001b[39;00m \u001b[39mnot\u001b[39;00m \u001b[39mNone\u001b[39;00m:\n\u001b[0;32m    236\u001b[0m     \u001b[39m# Register the Dispatcher to the type inference mechanism,\u001b[39;00m\n\u001b[0;32m    237\u001b[0m     \u001b[39m# even though the decorator hasn't returned yet.\u001b[39;00m\n\u001b[0;32m    238\u001b[0m     \u001b[39mfrom\u001b[39;00m \u001b[39mnumba\u001b[39;00m\u001b[39m.\u001b[39;00m\u001b[39mcore\u001b[39;00m \u001b[39mimport\u001b[39;00m typeinfer\n",
      "File \u001b[1;32mc:\\ProgramData\\anaconda3\\Lib\\site-packages\\numba\\core\\dispatcher.py:863\u001b[0m, in \u001b[0;36mDispatcher.enable_caching\u001b[1;34m(self)\u001b[0m\n\u001b[0;32m    862\u001b[0m \u001b[39mdef\u001b[39;00m \u001b[39menable_caching\u001b[39m(\u001b[39mself\u001b[39m):\n\u001b[1;32m--> 863\u001b[0m     \u001b[39mself\u001b[39m\u001b[39m.\u001b[39m_cache \u001b[39m=\u001b[39m FunctionCache(\u001b[39mself\u001b[39m\u001b[39m.\u001b[39mpy_func)\n",
      "File \u001b[1;32mc:\\ProgramData\\anaconda3\\Lib\\site-packages\\numba\\core\\caching.py:601\u001b[0m, in \u001b[0;36mCache.__init__\u001b[1;34m(self, py_func)\u001b[0m\n\u001b[0;32m    599\u001b[0m \u001b[39mself\u001b[39m\u001b[39m.\u001b[39m_name \u001b[39m=\u001b[39m \u001b[39mrepr\u001b[39m(py_func)\n\u001b[0;32m    600\u001b[0m \u001b[39mself\u001b[39m\u001b[39m.\u001b[39m_py_func \u001b[39m=\u001b[39m py_func\n\u001b[1;32m--> 601\u001b[0m \u001b[39mself\u001b[39m\u001b[39m.\u001b[39m_impl \u001b[39m=\u001b[39m \u001b[39mself\u001b[39m\u001b[39m.\u001b[39m_impl_class(py_func)\n\u001b[0;32m    602\u001b[0m \u001b[39mself\u001b[39m\u001b[39m.\u001b[39m_cache_path \u001b[39m=\u001b[39m \u001b[39mself\u001b[39m\u001b[39m.\u001b[39m_impl\u001b[39m.\u001b[39mlocator\u001b[39m.\u001b[39mget_cache_path()\n\u001b[0;32m    603\u001b[0m \u001b[39m# This may be a bit strict but avoids us maintaining a magic number\u001b[39;00m\n",
      "File \u001b[1;32mc:\\ProgramData\\anaconda3\\Lib\\site-packages\\numba\\core\\caching.py:333\u001b[0m, in \u001b[0;36mCacheImpl.__init__\u001b[1;34m(self, py_func)\u001b[0m\n\u001b[0;32m    331\u001b[0m source_path \u001b[39m=\u001b[39m inspect\u001b[39m.\u001b[39mgetfile(py_func)\n\u001b[0;32m    332\u001b[0m \u001b[39mfor\u001b[39;00m \u001b[39mcls\u001b[39m \u001b[39min\u001b[39;00m \u001b[39mself\u001b[39m\u001b[39m.\u001b[39m_locator_classes:\n\u001b[1;32m--> 333\u001b[0m     locator \u001b[39m=\u001b[39m \u001b[39mcls\u001b[39m\u001b[39m.\u001b[39mfrom_function(py_func, source_path)\n\u001b[0;32m    334\u001b[0m     \u001b[39mif\u001b[39;00m locator \u001b[39mis\u001b[39;00m \u001b[39mnot\u001b[39;00m \u001b[39mNone\u001b[39;00m:\n\u001b[0;32m    335\u001b[0m         \u001b[39mbreak\u001b[39;00m\n",
      "File \u001b[1;32mc:\\ProgramData\\anaconda3\\Lib\\site-packages\\numba\\core\\caching.py:180\u001b[0m, in \u001b[0;36m_SourceFileBackedLocatorMixin.from_function\u001b[1;34m(cls, py_func, py_file)\u001b[0m\n\u001b[0;32m    178\u001b[0m \u001b[39mself\u001b[39m \u001b[39m=\u001b[39m \u001b[39mcls\u001b[39m(py_func, py_file)\n\u001b[0;32m    179\u001b[0m \u001b[39mtry\u001b[39;00m:\n\u001b[1;32m--> 180\u001b[0m     \u001b[39mself\u001b[39m\u001b[39m.\u001b[39mensure_cache_path()\n\u001b[0;32m    181\u001b[0m \u001b[39mexcept\u001b[39;00m \u001b[39mOSError\u001b[39;00m:\n\u001b[0;32m    182\u001b[0m     \u001b[39m# Cannot ensure the cache directory exists or is writable\u001b[39;00m\n\u001b[0;32m    183\u001b[0m     \u001b[39mreturn\u001b[39;00m\n",
      "File \u001b[1;32mc:\\ProgramData\\anaconda3\\Lib\\site-packages\\numba\\core\\caching.py:107\u001b[0m, in \u001b[0;36m_CacheLocator.ensure_cache_path\u001b[1;34m(self)\u001b[0m\n\u001b[0;32m    105\u001b[0m os\u001b[39m.\u001b[39mmakedirs(path, exist_ok\u001b[39m=\u001b[39m\u001b[39mTrue\u001b[39;00m)\n\u001b[0;32m    106\u001b[0m \u001b[39m# Ensure the directory is writable by trying to write a temporary file\u001b[39;00m\n\u001b[1;32m--> 107\u001b[0m tempfile\u001b[39m.\u001b[39mTemporaryFile(\u001b[39mdir\u001b[39m\u001b[39m=\u001b[39mpath)\u001b[39m.\u001b[39mclose()\n",
      "File \u001b[1;32mc:\\ProgramData\\anaconda3\\Lib\\tempfile.py:563\u001b[0m, in \u001b[0;36mNamedTemporaryFile\u001b[1;34m(mode, buffering, encoding, newline, suffix, prefix, dir, delete, errors)\u001b[0m\n\u001b[0;32m    561\u001b[0m     \u001b[39mreturn\u001b[39;00m fd\n\u001b[0;32m    562\u001b[0m \u001b[39mtry\u001b[39;00m:\n\u001b[1;32m--> 563\u001b[0m     file \u001b[39m=\u001b[39m _io\u001b[39m.\u001b[39mopen(\u001b[39mdir\u001b[39m, mode, buffering\u001b[39m=\u001b[39mbuffering,\n\u001b[0;32m    564\u001b[0m                     newline\u001b[39m=\u001b[39mnewline, encoding\u001b[39m=\u001b[39mencoding, errors\u001b[39m=\u001b[39merrors,\n\u001b[0;32m    565\u001b[0m                     opener\u001b[39m=\u001b[39mopener)\n\u001b[0;32m    566\u001b[0m     \u001b[39mtry\u001b[39;00m:\n\u001b[0;32m    567\u001b[0m         raw \u001b[39m=\u001b[39m \u001b[39mgetattr\u001b[39m(file, \u001b[39m'\u001b[39m\u001b[39mbuffer\u001b[39m\u001b[39m'\u001b[39m, file)\n",
      "File \u001b[1;32mc:\\ProgramData\\anaconda3\\Lib\\tempfile.py:560\u001b[0m, in \u001b[0;36mNamedTemporaryFile.<locals>.opener\u001b[1;34m(*args)\u001b[0m\n\u001b[0;32m    558\u001b[0m \u001b[39mdef\u001b[39;00m \u001b[39mopener\u001b[39m(\u001b[39m*\u001b[39margs):\n\u001b[0;32m    559\u001b[0m     \u001b[39mnonlocal\u001b[39;00m name\n\u001b[1;32m--> 560\u001b[0m     fd, name \u001b[39m=\u001b[39m _mkstemp_inner(\u001b[39mdir\u001b[39m, prefix, suffix, flags, output_type)\n\u001b[0;32m    561\u001b[0m     \u001b[39mreturn\u001b[39;00m fd\n",
      "File \u001b[1;32mc:\\ProgramData\\anaconda3\\Lib\\tempfile.py:262\u001b[0m, in \u001b[0;36m_mkstemp_inner\u001b[1;34m(dir, pre, suf, flags, output_type)\u001b[0m\n\u001b[0;32m    258\u001b[0m     \u001b[39mcontinue\u001b[39;00m    \u001b[39m# try again\u001b[39;00m\n\u001b[0;32m    259\u001b[0m \u001b[39mexcept\u001b[39;00m \u001b[39mPermissionError\u001b[39;00m:\n\u001b[0;32m    260\u001b[0m     \u001b[39m# This exception is thrown when a directory with the chosen name\u001b[39;00m\n\u001b[0;32m    261\u001b[0m     \u001b[39m# already exists on windows.\u001b[39;00m\n\u001b[1;32m--> 262\u001b[0m     \u001b[39mif\u001b[39;00m (_os\u001b[39m.\u001b[39mname \u001b[39m==\u001b[39m \u001b[39m'\u001b[39m\u001b[39mnt\u001b[39m\u001b[39m'\u001b[39m \u001b[39mand\u001b[39;00m _os\u001b[39m.\u001b[39mpath\u001b[39m.\u001b[39misdir(\u001b[39mdir\u001b[39m) \u001b[39mand\u001b[39;00m\n\u001b[0;32m    263\u001b[0m         _os\u001b[39m.\u001b[39maccess(\u001b[39mdir\u001b[39m, _os\u001b[39m.\u001b[39mW_OK)):\n\u001b[0;32m    264\u001b[0m         \u001b[39mcontinue\u001b[39;00m\n\u001b[0;32m    265\u001b[0m     \u001b[39melse\u001b[39;00m:\n",
      "File \u001b[1;32m<frozen genericpath>:39\u001b[0m, in \u001b[0;36misdir\u001b[1;34m(s)\u001b[0m\n",
      "\u001b[1;31mKeyboardInterrupt\u001b[0m: "
     ]
    }
   ],
   "source": [
    "for steel_type in steel_types:\n",
    "    mp, mp_lp = get_mps(steel_type)\n",
    "    generate_batch(steel_type, mp, mp_lp, 30000)"
   ]
  }
 ],
 "metadata": {
  "kernelspec": {
   "display_name": "base",
   "language": "python",
   "name": "python3"
  },
  "language_info": {
   "codemirror_mode": {
    "name": "ipython",
    "version": 3
   },
   "file_extension": ".py",
   "mimetype": "text/x-python",
   "name": "python",
   "nbconvert_exporter": "python",
   "pygments_lexer": "ipython3",
   "version": "3.11.3"
  },
  "orig_nbformat": 4
 },
 "nbformat": 4,
 "nbformat_minor": 2
}
